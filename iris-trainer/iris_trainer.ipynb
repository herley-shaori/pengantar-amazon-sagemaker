{
 "cells": [
  {
   "cell_type": "code",
   "execution_count": 3,
   "metadata": {},
   "outputs": [],
   "source": [
    "from sklearn import datasets\n",
    "from sklearn import preprocessing\n",
    "import pandas as pd\n",
    "import numpy as np\n",
    "import boto3"
   ]
  },
  {
   "attachments": {},
   "cell_type": "markdown",
   "metadata": {},
   "source": [
    "Data preprocessing."
   ]
  },
  {
   "cell_type": "code",
   "execution_count": 16,
   "metadata": {},
   "outputs": [],
   "source": [
    "iris = datasets.load_iris()\n",
    "df = pd.DataFrame(data= np.c_[iris['data'], iris['target']],\n",
    "                     columns = iris['feature_names']+['target'])\n",
    "df.rename(columns = {'sepal length (cm)':'sepal_length', 'sepal width (cm)':'sepal_width','petal length (cm)':'petal_length','petal width (cm)':'petal_width'}, inplace = True)\n",
    "df.target = df.target.astype(int)\n",
    "df = df.iloc[:, [4,0,1,2,3]]\n",
    "\n",
    "train, validate, test = np.split(df.sample(frac=1, random_state=42),[int(.6*len(df)), int(.8*len(df))])\n",
    "train.to_csv('train.csv',index=False)\n",
    "validate.to_csv('validate.csv',index=False)\n",
    "test.to_csv('test.csv',index=False)"
   ]
  },
  {
   "attachments": {},
   "cell_type": "markdown",
   "metadata": {},
   "source": [
    "Upload to S3."
   ]
  },
  {
   "cell_type": "code",
   "execution_count": 18,
   "metadata": {},
   "outputs": [],
   "source": [
    "def uploadFileToS3(localFileLocation, remoteFileLocation):\n",
    "    client = boto3.client('s3')\n",
    "    s3 = boto3.resource('s3')\n",
    "    s3.meta.client.upload_file(localFileLocation, 'pengantar-sagemaker', remoteFileLocation)\n",
    "uploadFileToS3('train.csv','train/train.csv')\n",
    "uploadFileToS3('validate.csv','validate/validate.csv')\n",
    "uploadFileToS3('test.csv','test/test.csv')"
   ]
  },
  {
   "cell_type": "code",
   "execution_count": null,
   "metadata": {},
   "outputs": [],
   "source": [
    "# Import necessary modules\n",
    "from sklearn import datasets\n",
    "from sklearn.model_selection import train_test_split\n",
    "from sklearn.linear_model import LogisticRegression\n",
    "\n",
    "# Load the Iris dataset\n",
    "iris = datasets.load_iris()\n",
    "\n",
    "# Split the dataset into training and test sets\n",
    "X_train, X_test, y_train, y_test = train_test_split(iris.data, iris.target, random_state=0)# Train a logistic regression model on the training data\n",
    "model = LogisticRegression(solver='lbfgs', max_iter=1000, multi_class='auto')\n",
    "model.fit(X_train, y_train)\n",
    "\n",
    "# Evaluate the model on the test data\n",
    "score = model.score(X_test, y_test)\n",
    "\n",
    "print(\"Test score: {:.2f}\".format(score))"
   ]
  }
 ],
 "metadata": {
  "kernelspec": {
   "display_name": "venv",
   "language": "python",
   "name": "python3"
  },
  "language_info": {
   "codemirror_mode": {
    "name": "ipython",
    "version": 3
   },
   "file_extension": ".py",
   "mimetype": "text/x-python",
   "name": "python",
   "nbconvert_exporter": "python",
   "pygments_lexer": "ipython3",
   "version": "3.9.12"
  },
  "orig_nbformat": 4,
  "vscode": {
   "interpreter": {
    "hash": "600673f673e9258994206e2762bcdb85fc71e85ce72567bc5774fa1c51b3a9e1"
   }
  }
 },
 "nbformat": 4,
 "nbformat_minor": 2
}
