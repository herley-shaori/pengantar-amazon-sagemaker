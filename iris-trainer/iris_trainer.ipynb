{
 "cells": [
  {
   "cell_type": "code",
   "execution_count": 53,
   "metadata": {},
   "outputs": [],
   "source": [
    "from sklearn import datasets\n",
    "from sklearn import preprocessing\n",
    "from __future__ import print_function\n",
    "from sklearn import ensemble\n",
    "from sagemaker.sklearn.estimator import SKLearn\n",
    "from sagemaker import get_execution_role\n",
    "from sklearn.metrics import classification_report, confusion_matrix\n",
    "import joblib\n",
    "import pandas as pd\n",
    "import numpy as np\n",
    "import boto3\n",
    "import argparse\n",
    "import os\n",
    "import json\n",
    "import sagemaker\n",
    "import matplotlib.pyplot as plt\n",
    "import itertools"
   ]
  },
  {
   "cell_type": "markdown",
   "metadata": {},
   "source": [
    "Data preprocessing."
   ]
  },
  {
   "cell_type": "code",
   "execution_count": 31,
   "metadata": {},
   "outputs": [],
   "source": [
    "iris = datasets.load_iris()\n",
    "df = pd.DataFrame(data= np.c_[iris['data'], iris['target']],\n",
    "                     columns = iris['feature_names']+['target'])\n",
    "df.rename(columns = {'sepal length (cm)':'sepal_length', 'sepal width (cm)':'sepal_width','petal length (cm)':'petal_length','petal width (cm)':'petal_width'}, inplace = True)\n",
    "df.target = df.target.astype(int)\n",
    "df = df.iloc[:, [4,0,1,2,3]]\n",
    "\n",
    "train, validate, test = np.split(df.sample(frac=1, random_state=42),[int(.6*len(df)), int(.8*len(df))])\n",
    "train.to_csv('train.csv',index=False,header=False)\n",
    "validate.to_csv('validate.csv',index=False,header=False)\n",
    "test.to_csv('test.csv',index=False,header=False)"
   ]
  },
  {
   "cell_type": "code",
   "execution_count": 30,
   "metadata": {},
   "outputs": [
    {
     "name": "stdout",
     "output_type": "stream",
     "text": [
      "     target  sepal_length  sepal_width  petal_length  petal_width\n",
      "0         0           5.1          3.5           1.4          0.2\n",
      "1         0           4.9          3.0           1.4          0.2\n",
      "2         0           4.7          3.2           1.3          0.2\n",
      "3         0           4.6          3.1           1.5          0.2\n",
      "4         0           5.0          3.6           1.4          0.2\n",
      "..      ...           ...          ...           ...          ...\n",
      "145       2           6.7          3.0           5.2          2.3\n",
      "146       2           6.3          2.5           5.0          1.9\n",
      "147       2           6.5          3.0           5.2          2.0\n",
      "148       2           6.2          3.4           5.4          2.3\n",
      "149       2           5.9          3.0           5.1          1.8\n",
      "\n",
      "[150 rows x 5 columns]\n"
     ]
    }
   ],
   "source": [
    "print(df)"
   ]
  },
  {
   "cell_type": "markdown",
   "metadata": {},
   "source": [
    "Upload to S3."
   ]
  },
  {
   "cell_type": "code",
   "execution_count": 32,
   "metadata": {},
   "outputs": [],
   "source": [
    "def uploadFileToS3(localFileLocation, remoteFileLocation):\n",
    "    client = boto3.client('s3')\n",
    "    s3 = boto3.resource('s3')\n",
    "    s3.meta.client.upload_file(localFileLocation, 'pengantar-sagemaker', remoteFileLocation)\n",
    "uploadFileToS3('train.csv','train/train.csv')\n",
    "uploadFileToS3('validate.csv','validate/validate.csv')\n",
    "uploadFileToS3('test.csv','test/test.csv')"
   ]
  },
  {
   "cell_type": "markdown",
   "metadata": {},
   "source": [
    "Training."
   ]
  },
  {
   "cell_type": "code",
   "execution_count": 34,
   "metadata": {},
   "outputs": [],
   "source": [
    "# Specify your bucket name\n",
    "bucket_name = 'pengantar-sagemaker'\n",
    "\n",
    "training_folder = r'train/train'\n",
    "test_folder = r'test/test'\n",
    "model_folder = r'model/'\n",
    "\n",
    "training_data_uri = r's3://' + bucket_name + r'/' + training_folder\n",
    "testing_data_uri = r's3://' + bucket_name + r'/' + test_folder\n",
    "model_data_uri = r's3://' + bucket_name + r'/' + model_folder"
   ]
  },
  {
   "cell_type": "code",
   "execution_count": 36,
   "metadata": {},
   "outputs": [],
   "source": [
    "sagemaker_session = sagemaker.Session()\n",
    "role = get_execution_role()\n",
    "region = sagemaker_session.boto_session.region_name\n",
    "\n",
    "#instance_type='ml.m5.xlarge'\n",
    "instance_type='local'\n",
    "estimator = SKLearn(entry_point='scikit_learn_iris.py',\n",
    "                    framework_version = \"0.20.0\",\n",
    "                    py_version = 'py3',\n",
    "                    instance_type= instance_type,                     \n",
    "                    role=role, \n",
    "                    output_path=model_data_uri,\n",
    "                    base_job_name='sklearn-iris',\n",
    "                    hyperparameters={'n_estimators': 50,'max_depth':5})"
   ]
  },
  {
   "cell_type": "code",
   "execution_count": null,
   "metadata": {},
   "outputs": [],
   "source": [
    "estimator.fit({'training':training_data_uri,'testing':testing_data_uri})"
   ]
  },
  {
   "cell_type": "markdown",
   "metadata": {},
   "source": [
    "Model Deployment"
   ]
  },
  {
   "cell_type": "code",
   "execution_count": 38,
   "metadata": {},
   "outputs": [
    {
     "name": "stdout",
     "output_type": "stream",
     "text": [
      "Attaching to o24h7sg0oe-algo-1-98568\n",
      "\u001b[36mo24h7sg0oe-algo-1-98568 |\u001b[0m Processing /opt/ml/code\n",
      "\u001b[36mo24h7sg0oe-algo-1-98568 |\u001b[0m   Preparing metadata (setup.py) ... \u001b[?25ldone\n",
      "\u001b[36mo24h7sg0oe-algo-1-98568 |\u001b[0m \u001b[?25hBuilding wheels for collected packages: scikit-learn-iris\n",
      "\u001b[36mo24h7sg0oe-algo-1-98568 |\u001b[0m   Building wheel for scikit-learn-iris (setup.py) ... \u001b[?25ldone\n",
      "\u001b[36mo24h7sg0oe-algo-1-98568 |\u001b[0m \u001b[?25h  Created wheel for scikit-learn-iris: filename=scikit_learn_iris-1.0.0-py2.py3-none-any.whl size=6051 sha256=17b9966d61e42445aed274d3345f79507b7eca8da7a9efe62e03a8916c7c0c03\n",
      "\u001b[36mo24h7sg0oe-algo-1-98568 |\u001b[0m   Stored in directory: /tmp/pip-ephem-wheel-cache-mmk0_uq3/wheels/3e/0f/51/2f1df833dd0412c1bc2f5ee56baac195b5be563353d111dca6\n",
      "\u001b[36mo24h7sg0oe-algo-1-98568 |\u001b[0m Successfully built scikit-learn-iris\n",
      "\u001b[36mo24h7sg0oe-algo-1-98568 |\u001b[0m Installing collected packages: scikit-learn-iris\n",
      "\u001b[36mo24h7sg0oe-algo-1-98568 |\u001b[0m Successfully installed scikit-learn-iris-1.0.0\n",
      "\u001b[36mo24h7sg0oe-algo-1-98568 |\u001b[0m \u001b[33mWARNING: Running pip as the 'root' user can result in broken permissions and conflicting behaviour with the system package manager. It is recommended to use a virtual environment instead: https://pip.pypa.io/warnings/venv\u001b[0m\u001b[33m\n",
      "\u001b[36mo24h7sg0oe-algo-1-98568 |\u001b[0m \u001b[0m/miniconda3/lib/python3.7/site-packages/sklearn/externals/joblib/externals/cloudpickle/cloudpickle.py:47: DeprecationWarning: the imp module is deprecated in favour of importlib; see the module's documentation for alternative uses\n",
      "\u001b[36mo24h7sg0oe-algo-1-98568 |\u001b[0m   import imp\n",
      "\u001b[36mo24h7sg0oe-algo-1-98568 |\u001b[0m /miniconda3/lib/python3.7/site-packages/sklearn/utils/validation.py:37: DeprecationWarning: distutils Version classes are deprecated. Use packaging.version instead.\n",
      "\u001b[36mo24h7sg0oe-algo-1-98568 |\u001b[0m   LARGE_SPARSE_SUPPORTED = LooseVersion(scipy_version) >= '0.14.0'\n",
      "\u001b[36mo24h7sg0oe-algo-1-98568 |\u001b[0m 2022/12/13 04:30:47 [crit] 13#13: *1 connect() to unix:/tmp/gunicorn.sock failed (2: No such file or directory) while connecting to upstream, client: 172.18.0.1, server: , request: \"GET /ping HTTP/1.1\", upstream: \"http://unix:/tmp/gunicorn.sock:/ping\", host: \"localhost:8080\"\n",
      "\u001b[36mo24h7sg0oe-algo-1-98568 |\u001b[0m 172.18.0.1 - - [13/Dec/2022:04:30:47 +0000] \"GET /ping HTTP/1.1\" 502 182 \"-\" \"python-urllib3/1.26.8\"\n",
      "\u001b[36mo24h7sg0oe-algo-1-98568 |\u001b[0m [2022-12-13 04:30:47 +0000] [30] [INFO] Starting gunicorn 20.1.0\n",
      "\u001b[36mo24h7sg0oe-algo-1-98568 |\u001b[0m [2022-12-13 04:30:47 +0000] [30] [INFO] Listening at: unix:/tmp/gunicorn.sock (30)\n",
      "\u001b[36mo24h7sg0oe-algo-1-98568 |\u001b[0m [2022-12-13 04:30:47 +0000] [30] [INFO] Using worker: gevent\n",
      "\u001b[36mo24h7sg0oe-algo-1-98568 |\u001b[0m [2022-12-13 04:30:47 +0000] [33] [INFO] Booting worker with pid: 33\n",
      "\u001b[36mo24h7sg0oe-algo-1-98568 |\u001b[0m [2022-12-13 04:30:48 +0000] [34] [INFO] Booting worker with pid: 34\n",
      "\u001b[36mo24h7sg0oe-algo-1-98568 |\u001b[0m 2022-12-13 04:30:52,483 INFO - sagemaker-containers - No GPUs detected (normal if no gpus installed)\n",
      "\u001b[36mo24h7sg0oe-algo-1-98568 |\u001b[0m /miniconda3/lib/python3.7/site-packages/sklearn/externals/joblib/externals/cloudpickle/cloudpickle.py:47: DeprecationWarning: the imp module is deprecated in favour of importlib; see the module's documentation for alternative uses\n",
      "\u001b[36mo24h7sg0oe-algo-1-98568 |\u001b[0m   import imp\n",
      "\u001b[36mo24h7sg0oe-algo-1-98568 |\u001b[0m /miniconda3/lib/python3.7/site-packages/sklearn/utils/validation.py:37: DeprecationWarning: distutils Version classes are deprecated. Use packaging.version instead.\n",
      "\u001b[36mo24h7sg0oe-algo-1-98568 |\u001b[0m   LARGE_SPARSE_SUPPORTED = LooseVersion(scipy_version) >= '0.14.0'\n",
      "!\u001b[36mo24h7sg0oe-algo-1-98568 |\u001b[0m 172.18.0.1 - - [13/Dec/2022:04:30:53 +0000] \"GET /ping HTTP/1.1\" 200 0 \"-\" \"python-urllib3/1.26.8\"\n"
     ]
    }
   ],
   "source": [
    "predictor = estimator.deploy(initial_instance_count=1, instance_type='ml.m5.xlarge')"
   ]
  },
  {
   "cell_type": "markdown",
   "metadata": {},
   "source": [
    "Model Evaluation"
   ]
  },
  {
   "cell_type": "code",
   "execution_count": 45,
   "metadata": {},
   "outputs": [],
   "source": [
    "# Reference: \n",
    "# https://scikit-learn.org/stable/auto_examples/model_selection/plot_confusion_matrix.html\n",
    "def plot_confusion_matrix(cm, classes,\n",
    "                          normalize=False,\n",
    "                          title='Confusion matrix',\n",
    "                          cmap=plt.cm.Blues):\n",
    "    \"\"\"\n",
    "    This function prints and plots the confusion matrix.\n",
    "    Normalization can be applied by setting `normalize=True`.\n",
    "    \"\"\"\n",
    "    if normalize:\n",
    "        cm = cm.astype('float') / cm.sum(axis=1)[:, np.newaxis]\n",
    "        #print(\"Normalized confusion matrix\")\n",
    "    #else:\n",
    "    #    print('Confusion matrix, without normalization')\n",
    "\n",
    "    #print(cm)\n",
    "\n",
    "    plt.imshow(cm, interpolation='nearest', cmap=cmap)\n",
    "    plt.title(title)\n",
    "    plt.colorbar()\n",
    "    tick_marks = np.arange(len(classes))\n",
    "    plt.xticks(tick_marks, classes, rotation=45)\n",
    "    plt.yticks(tick_marks, classes)\n",
    "\n",
    "    fmt = '.2f' if normalize else 'd'\n",
    "    thresh = cm.max() / 2.\n",
    "    for i, j in itertools.product(range(cm.shape[0]), range(cm.shape[1])):\n",
    "        plt.text(j, i, format(cm[i, j], fmt),\n",
    "                 horizontalalignment=\"center\",\n",
    "                 color=\"white\" if cm[i, j] > thresh else \"black\")\n",
    "\n",
    "    plt.ylabel('True label')\n",
    "    plt.xlabel('Predicted label')\n",
    "    plt.tight_layout()"
   ]
  },
  {
   "cell_type": "code",
   "execution_count": 56,
   "metadata": {},
   "outputs": [
    {
     "name": "stdout",
     "output_type": "stream",
     "text": [
      "\u001b[36mo24h7sg0oe-algo-1-98568 |\u001b[0m 172.18.0.1 - - [13/Dec/2022:04:44:30 +0000] \"POST /invocations HTTP/1.1\" 200 360 \"-\" \"python-urllib3/1.26.8\"\n"
     ]
    },
    {
     "data": {
      "image/png": "[encoded data removed]",
      "text/plain": [
       "<Figure size 432x288 with 2 Axes>"
      ]
     },
     "metadata": {
      "needs_background": "light"
     },
     "output_type": "display_data"
    }
   ],
   "source": [
    "testDF = pd.read_csv('test.csv')\n",
    "X_test = testDF.iloc[:,1:]\n",
    "result = predictor.predict(X_test)\n",
    "cnf_matrix = confusion_matrix(testDF.iloc[:,0],\n",
    "                              result,labels=[0,1,2])\n",
    "plt.figure()\n",
    "plot_confusion_matrix(cnf_matrix, classes = ['Iris-setosa', 'Iris-versicolor', 'Iris-virginica'],\n",
    "                      title='Confusion matrix - Count')"
   ]
  },
  {
   "cell_type": "code",
   "execution_count": 58,
   "metadata": {},
   "outputs": [
    {
     "name": "stdout",
     "output_type": "stream",
     "text": [
      "                 precision    recall  f1-score   support\n",
      "\n",
      "    Iris-setosa       1.00      1.00      1.00         7\n",
      "Iris-versicolor       0.91      1.00      0.95        10\n",
      " Iris-virginica       1.00      0.92      0.96        12\n",
      "\n",
      "       accuracy                           0.97        29\n",
      "      macro avg       0.97      0.97      0.97        29\n",
      "   weighted avg       0.97      0.97      0.97        29\n",
      "\n"
     ]
    }
   ],
   "source": [
    "print(classification_report(testDF.iloc[:,0], result, target_names=['Iris-setosa', 'Iris-versicolor', 'Iris-virginica']))"
   ]
  }
 ],
 "metadata": {
  "kernelspec": {
   "display_name": "venv",
   "language": "python",
   "name": "python3"
  },
  "language_info": {
   "codemirror_mode": {
    "name": "ipython",
    "version": 3
   },
   "file_extension": ".py",
   "mimetype": "text/x-python",
   "name": "python",
   "nbconvert_exporter": "python",
   "pygments_lexer": "ipython3",
   "version": "3.9.12 (main, Apr  4 2022, 05:22:27) [MSC v.1916 64 bit (AMD64)]"
  },
  "vscode": {
   "interpreter": {
    "hash": "600673f673e9258994206e2762bcdb85fc71e85ce72567bc5774fa1c51b3a9e1"
   }
  }
 },
 "nbformat": 4,
 "nbformat_minor": 4
}
